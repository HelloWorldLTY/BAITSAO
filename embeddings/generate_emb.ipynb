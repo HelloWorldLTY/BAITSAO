{
 "cells": [
  {
   "cell_type": "code",
   "execution_count": null,
   "metadata": {
    "vscode": {
     "languageId": "plaintext"
    }
   },
   "outputs": [],
   "source": [
    "import requests\n",
    "from bs4 import BeautifulSoup\n",
    "import html2text\n",
    "import mygene\n",
    "import json\n",
    "import pickle\n",
    "mg = mygene.MyGeneInfo()\n",
    "\n",
    "import pandas as pd\n",
    "import scanpy as sc\n",
    "\n",
    "import openai\n",
    "import time\n",
    "delay_sec = 5\n",
    "# remember to set your open AI API key!\n",
    "openai.api_key = ''\n",
    "\n",
    "import numpy as np\n",
    "\n",
    "EMBED_DIM = 1536 # embedding dim from GPT-3.5\n",
    "lookup_embed = np.zeros(shape=(len(gene_all),EMBED_DIM))\n",
    "\n",
    "def get_gpt_embedding(text, model=\"text-embedding-ada-002\"):\n",
    "    text = text.replace(\"\\n\", \" \")\n",
    "    return np.array(openai.Embedding.create(input = [text], model=model)['data'][0]['embedding'])"
   ]
  },
  {
   "cell_type": "markdown",
   "metadata": {},
   "source": [
    "# Default mode"
   ]
  },
  {
   "cell_type": "code",
   "execution_count": null,
   "metadata": {
    "vscode": {
     "languageId": "plaintext"
    }
   },
   "outputs": [],
   "source": [
    "drug_name_to_GPT_response = {}\n",
    "drug_name_getembedding = {}\n",
    "import pickle\n",
    "\n",
    "df = pd.read_csv(\"/gpfs/gibbs/pi/zhao/tl688/synergy_prediction/compounds representation.csv\", header=None)\n",
    "\n",
    "df[0].values\n",
    "\n",
    "len(df[0].values)\n",
    "\n",
    "gene_completion_test = df[0].values\n",
    "for gene in gene_completion_test:\n",
    "    print(gene)\n",
    "    try:\n",
    "        completion = openai.ChatCompletion.create(model=\"gpt-3.5-turbo-1106\", \n",
    "                    messages=[{\"role\": \"user\", \n",
    "                               \"content\": f\"Please summarize the major function of drug: {gene}. Use academic language in one paragraph and include pathway information.\"}])\n",
    "        drug_name_to_GPT_response[gene] = completion.choices[0].message.content\n",
    "        drug_name_getembedding[gene] = get_gpt_embedding(drug_name_to_GPT_response[gene])\n",
    "        time.sleep(1)\n",
    "    except (openai.APIError, \n",
    "                    openai.error.APIError, \n",
    "                    openai.error.APIConnectionError, \n",
    "                    openai.error.RateLimitError, \n",
    "                    openai.error.ServiceUnavailableError, \n",
    "                    openai.error.Timeout) as e:\n",
    "        #Handle API error here, e.g. retry or log\n",
    "        print(f\"OpenAI API returned an API Error: {e}\")\n",
    "        pass\n",
    "\n",
    "import pickle\n",
    "\n",
    "with open('ensem_describe_deepsynergydrug_default.pickle', 'wb') as handle:\n",
    "    pickle.dump(drug_name_to_GPT_response, handle, protocol=pickle.HIGHEST_PROTOCOL)\n",
    "    \n",
    "with open('ensem_emb_deepsynergydrug_default.pickle', 'wb') as handle:\n",
    "    pickle.dump(drug_name_getembedding, handle, protocol=pickle.HIGHEST_PROTOCOL)\n"
   ]
  },
  {
   "cell_type": "markdown",
   "metadata": {},
   "source": [
    "# Cell lines"
   ]
  },
  {
   "cell_type": "code",
   "execution_count": null,
   "metadata": {
    "vscode": {
     "languageId": "plaintext"
    }
   },
   "outputs": [],
   "source": [
    "drug_name_to_GPT_response = {}\n",
    "drug_name_getembedding = {}\n",
    "import pickle\n",
    "\n",
    "df = pd.read_csv(\"/gpfs/gibbs/pi/zhao/tl688/synergy_prediction/celllines.csv\", header=None)\n",
    "\n",
    "df[0].values\n",
    "\n",
    "len(df[0].values)\n",
    "\n",
    "gene_completion_test = df[0].values\n",
    "for gene in gene_completion_test:\n",
    "    print(gene)\n",
    "    try:\n",
    "        completion = openai.ChatCompletion.create(model=\"gpt-3.5-turbo-1106\", \n",
    "                    messages=[{\"role\": \"user\", \n",
    "                               \"content\": f\"Please summarize the major function of cell line: {gene}. Use academic language in one paragraph and include pathway information.\"}])\n",
    "        drug_name_to_GPT_response[gene] = completion.choices[0].message.content\n",
    "        drug_name_getembedding[gene] = get_gpt_embedding(drug_name_to_GPT_response[gene])\n",
    "        time.sleep(1)\n",
    "    except (openai.APIError, \n",
    "                    openai.error.APIError, \n",
    "                    openai.error.APIConnectionError, \n",
    "                    openai.error.RateLimitError, \n",
    "                    openai.error.ServiceUnavailableError, \n",
    "                    openai.error.Timeout) as e:\n",
    "        #Handle API error here, e.g. retry or log\n",
    "        print(f\"OpenAI API returned an API Error: {e}\")\n",
    "        pass\n",
    "\n",
    "\n",
    "with open('ensem_describe_deepsynergycellline_default.pickle', 'wb') as handle:\n",
    "    pickle.dump(drug_name_to_GPT_response, handle, protocol=pickle.HIGHEST_PROTOCOL)\n",
    "    \n",
    "with open('ensem_emb_deepsynergycellline_default.pickle', 'wb') as handle:\n",
    "    pickle.dump(drug_name_getembedding, handle, protocol=pickle.HIGHEST_PROTOCOL)\n"
   ]
  },
  {
   "cell_type": "markdown",
   "metadata": {},
   "source": [
    "# MetaPrompt"
   ]
  },
  {
   "cell_type": "code",
   "execution_count": null,
   "metadata": {
    "vscode": {
     "languageId": "plaintext"
    }
   },
   "outputs": [],
   "source": [
    "drug_name_to_GPT_response = {}\n",
    "drug_name_getembedding = {}\n",
    "import pickle\n",
    "\n",
    "df = pd.read_csv(\"/gpfs/gibbs/pi/zhao/tl688/synergy_prediction/compounds representation.csv\", header=None)\n",
    "\n",
    "df[0].values\n",
    "\n",
    "len(df[0].values)\n",
    "\n",
    "template_gen_expert_identity = \"Hello! I'm here to assist with all your biology-related and chemical-related inquiries. Whether you're a high school student struggling with genetics, a college professor teaching molecular biology, or an enthusiast eager to discuss the latest in conservation biology, I'm equipped to support you. My expertise covers a wide range of biological sciences including drug biology, chemical biology, cell biology, genetics and genomics. I provide accurate, up-to-date information, tailored study guides, and can help develop research questions or experimental designs. Ask me anything from basic concepts to complex theories, and I’ll provide detailed explanations and visual aids to foster your understanding. Let’s explore the wonders of biology together!\"\n",
    "\n",
    "gene_completion_test = df[0].values\n",
    "for gene in gene_completion_test:\n",
    "    print(gene)\n",
    "    try:\n",
    "        completion = openai.ChatCompletion.create(model=\"gpt-3.5-turbo-1106\", \n",
    "                    messages=[\n",
    "        {\"role\": \"system\", \"content\": template_gen_expert_identity},\n",
    "        {\"role\": \"user\", \"content\": f\"Please summarize the major function of drug: {gene}. Use academic language in one paragraph and include pathway information.\"}\n",
    "    ],)\n",
    "        drug_name_to_GPT_response[gene] = completion.choices[0].message.content\n",
    "        drug_name_getembedding[gene] = get_gpt_embedding(drug_name_to_GPT_response[gene])\n",
    "        time.sleep(1)\n",
    "    except (openai.APIError, \n",
    "                    openai.error.APIError, \n",
    "                    openai.error.APIConnectionError, \n",
    "                    openai.error.RateLimitError, \n",
    "                    openai.error.ServiceUnavailableError, \n",
    "                    openai.error.Timeout) as e:\n",
    "        #Handle API error here, e.g. retry or log\n",
    "        print(f\"OpenAI API returned an API Error: {e}\")\n",
    "        pass\n",
    "\n",
    "import pickle\n",
    "\n",
    "with open('ensem_describe_deepsynergydrug_metaprompt.pickle', 'wb') as handle:\n",
    "    pickle.dump(drug_name_to_GPT_response, handle, protocol=pickle.HIGHEST_PROTOCOL)\n",
    "    \n",
    "with open('ensem_emb_deepsynergydrug_metaprompt.pickle', 'wb') as handle:\n",
    "    pickle.dump(drug_name_getembedding, handle, protocol=pickle.HIGHEST_PROTOCOL)\n"
   ]
  },
  {
   "cell_type": "markdown",
   "metadata": {},
   "source": [
    "# Chain-of-Thought"
   ]
  },
  {
   "cell_type": "code",
   "execution_count": null,
   "metadata": {
    "vscode": {
     "languageId": "plaintext"
    }
   },
   "outputs": [],
   "source": [
    "drug_name_to_GPT_response = {}\n",
    "drug_name_getembedding = {}\n",
    "import pickle\n",
    "\n",
    "df = pd.read_csv(\"/gpfs/gibbs/pi/zhao/tl688/synergy_prediction/compounds representation.csv\", header=None)\n",
    "\n",
    "df[0].values\n",
    "\n",
    "len(df[0].values)\n",
    "\n",
    "gene_completion_test = df[0].values\n",
    "for gene in gene_completion_test:\n",
    "    print(gene)\n",
    "    try:\n",
    "        completion = openai.ChatCompletion.create(model=\"gpt-3.5-turbo-1106\", \n",
    "                    messages=[{\"role\": \"user\", \n",
    "                               \"content\": f\"Please summarize the major function of drug: {gene}. Use academic language in one paragraph and include pathway information. Let's think it step by step.\"}])\n",
    "        drug_name_to_GPT_response[gene] = completion.choices[0].message.content\n",
    "        drug_name_getembedding[gene] = get_gpt_embedding(drug_name_to_GPT_response[gene])\n",
    "        time.sleep(1)\n",
    "    except (openai.APIError, \n",
    "                    openai.error.APIError, \n",
    "                    openai.error.APIConnectionError, \n",
    "                    openai.error.RateLimitError, \n",
    "                    openai.error.ServiceUnavailableError, \n",
    "                    openai.error.Timeout) as e:\n",
    "        #Handle API error here, e.g. retry or log\n",
    "        print(f\"OpenAI API returned an API Error: {e}\")\n",
    "        pass\n",
    "\n",
    "import pickle\n",
    "\n",
    "with open('ensem_describe_deepsynergydrug_cot.pickle', 'wb') as handle:\n",
    "    pickle.dump(drug_name_to_GPT_response, handle, protocol=pickle.HIGHEST_PROTOCOL)\n",
    "    \n",
    "with open('ensem_emb_deepsynergydrug_cot.pickle', 'wb') as handle:\n",
    "    pickle.dump(drug_name_getembedding, handle, protocol=pickle.HIGHEST_PROTOCOL)\n"
   ]
  }
 ],
 "metadata": {
  "language_info": {
   "name": "python"
  }
 },
 "nbformat": 4,
 "nbformat_minor": 2
}
